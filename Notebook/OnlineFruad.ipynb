{
  "cells": [
    {
      "cell_type": "code",
      "execution_count": 62,
      "metadata": {
        "id": "QdvGtqh7Svhd"
      },
      "outputs": [],
      "source": [
        "import pandas as pd\n",
        "import numpy as np\n",
        "import matplotlib.pyplot as plt\n",
        "%matplotlib inline\n",
        "import seaborn as sns\n",
        "import warnings\n",
        "warnings.filterwarnings(\"ignore\")"
      ]
    },
    {
      "cell_type": "markdown",
      "metadata": {
        "id": "MxJ4LRyOseUe"
      },
      "source": [
        "importing important libraries\n"
      ]
    },
    {
      "cell_type": "code",
      "execution_count": 63,
      "metadata": {
        "id": "Fe8t8dPESy42"
      },
      "outputs": [],
      "source": [
        "df=pd.read_csv(\"/content/bs140513_032310.csv\")"
      ]
    },
    {
      "cell_type": "markdown",
      "metadata": {
        "id": "tPCNUuzTskuq"
      },
      "source": [
        "reading the dataset using pandas"
      ]
    },
    {
      "cell_type": "code",
      "execution_count": 64,
      "metadata": {
        "colab": {
          "base_uri": "https://localhost:8080/",
          "height": 206
        },
        "id": "AdVxR8ISTiDu",
        "outputId": "a6d36a6d-eef1-4ef2-d6aa-76f3890c7d1f"
      },
      "outputs": [
        {
          "data": {
            "text/html": [
              "\n",
              "  <div id=\"df-1c2d579a-60b7-48d7-bc6e-b717a94a2045\">\n",
              "    <div class=\"colab-df-container\">\n",
              "      <div>\n",
              "<style scoped>\n",
              "    .dataframe tbody tr th:only-of-type {\n",
              "        vertical-align: middle;\n",
              "    }\n",
              "\n",
              "    .dataframe tbody tr th {\n",
              "        vertical-align: top;\n",
              "    }\n",
              "\n",
              "    .dataframe thead th {\n",
              "        text-align: right;\n",
              "    }\n",
              "</style>\n",
              "<table border=\"1\" class=\"dataframe\">\n",
              "  <thead>\n",
              "    <tr style=\"text-align: right;\">\n",
              "      <th></th>\n",
              "      <th>step</th>\n",
              "      <th>customer</th>\n",
              "      <th>age</th>\n",
              "      <th>gender</th>\n",
              "      <th>zipcodeOri</th>\n",
              "      <th>merchant</th>\n",
              "      <th>zipMerchant</th>\n",
              "      <th>category</th>\n",
              "      <th>amount</th>\n",
              "      <th>fraud</th>\n",
              "    </tr>\n",
              "  </thead>\n",
              "  <tbody>\n",
              "    <tr>\n",
              "      <th>0</th>\n",
              "      <td>0</td>\n",
              "      <td>'C1093826151'</td>\n",
              "      <td>'4'</td>\n",
              "      <td>'M'</td>\n",
              "      <td>'28007'</td>\n",
              "      <td>'M348934600'</td>\n",
              "      <td>'28007'</td>\n",
              "      <td>'es_transportation'</td>\n",
              "      <td>4.55</td>\n",
              "      <td>0</td>\n",
              "    </tr>\n",
              "    <tr>\n",
              "      <th>1</th>\n",
              "      <td>0</td>\n",
              "      <td>'C352968107'</td>\n",
              "      <td>'2'</td>\n",
              "      <td>'M'</td>\n",
              "      <td>'28007'</td>\n",
              "      <td>'M348934600'</td>\n",
              "      <td>'28007'</td>\n",
              "      <td>'es_transportation'</td>\n",
              "      <td>39.68</td>\n",
              "      <td>0</td>\n",
              "    </tr>\n",
              "    <tr>\n",
              "      <th>2</th>\n",
              "      <td>0</td>\n",
              "      <td>'C2054744914'</td>\n",
              "      <td>'4'</td>\n",
              "      <td>'F'</td>\n",
              "      <td>'28007'</td>\n",
              "      <td>'M1823072687'</td>\n",
              "      <td>'28007'</td>\n",
              "      <td>'es_transportation'</td>\n",
              "      <td>26.89</td>\n",
              "      <td>0</td>\n",
              "    </tr>\n",
              "    <tr>\n",
              "      <th>3</th>\n",
              "      <td>0</td>\n",
              "      <td>'C1760612790'</td>\n",
              "      <td>'3'</td>\n",
              "      <td>'M'</td>\n",
              "      <td>'28007'</td>\n",
              "      <td>'M348934600'</td>\n",
              "      <td>'28007'</td>\n",
              "      <td>'es_transportation'</td>\n",
              "      <td>17.25</td>\n",
              "      <td>0</td>\n",
              "    </tr>\n",
              "    <tr>\n",
              "      <th>4</th>\n",
              "      <td>0</td>\n",
              "      <td>'C757503768'</td>\n",
              "      <td>'5'</td>\n",
              "      <td>'M'</td>\n",
              "      <td>'28007'</td>\n",
              "      <td>'M348934600'</td>\n",
              "      <td>'28007'</td>\n",
              "      <td>'es_transportation'</td>\n",
              "      <td>35.72</td>\n",
              "      <td>0</td>\n",
              "    </tr>\n",
              "  </tbody>\n",
              "</table>\n",
              "</div>\n",
              "      <button class=\"colab-df-convert\" onclick=\"convertToInteractive('df-1c2d579a-60b7-48d7-bc6e-b717a94a2045')\"\n",
              "              title=\"Convert this dataframe to an interactive table.\"\n",
              "              style=\"display:none;\">\n",
              "        \n",
              "  <svg xmlns=\"http://www.w3.org/2000/svg\" height=\"24px\"viewBox=\"0 0 24 24\"\n",
              "       width=\"24px\">\n",
              "    <path d=\"M0 0h24v24H0V0z\" fill=\"none\"/>\n",
              "    <path d=\"M18.56 5.44l.94 2.06.94-2.06 2.06-.94-2.06-.94-.94-2.06-.94 2.06-2.06.94zm-11 1L8.5 8.5l.94-2.06 2.06-.94-2.06-.94L8.5 2.5l-.94 2.06-2.06.94zm10 10l.94 2.06.94-2.06 2.06-.94-2.06-.94-.94-2.06-.94 2.06-2.06.94z\"/><path d=\"M17.41 7.96l-1.37-1.37c-.4-.4-.92-.59-1.43-.59-.52 0-1.04.2-1.43.59L10.3 9.45l-7.72 7.72c-.78.78-.78 2.05 0 2.83L4 21.41c.39.39.9.59 1.41.59.51 0 1.02-.2 1.41-.59l7.78-7.78 2.81-2.81c.8-.78.8-2.07 0-2.86zM5.41 20L4 18.59l7.72-7.72 1.47 1.35L5.41 20z\"/>\n",
              "  </svg>\n",
              "      </button>\n",
              "      \n",
              "  <style>\n",
              "    .colab-df-container {\n",
              "      display:flex;\n",
              "      flex-wrap:wrap;\n",
              "      gap: 12px;\n",
              "    }\n",
              "\n",
              "    .colab-df-convert {\n",
              "      background-color: #E8F0FE;\n",
              "      border: none;\n",
              "      border-radius: 50%;\n",
              "      cursor: pointer;\n",
              "      display: none;\n",
              "      fill: #1967D2;\n",
              "      height: 32px;\n",
              "      padding: 0 0 0 0;\n",
              "      width: 32px;\n",
              "    }\n",
              "\n",
              "    .colab-df-convert:hover {\n",
              "      background-color: #E2EBFA;\n",
              "      box-shadow: 0px 1px 2px rgba(60, 64, 67, 0.3), 0px 1px 3px 1px rgba(60, 64, 67, 0.15);\n",
              "      fill: #174EA6;\n",
              "    }\n",
              "\n",
              "    [theme=dark] .colab-df-convert {\n",
              "      background-color: #3B4455;\n",
              "      fill: #D2E3FC;\n",
              "    }\n",
              "\n",
              "    [theme=dark] .colab-df-convert:hover {\n",
              "      background-color: #434B5C;\n",
              "      box-shadow: 0px 1px 3px 1px rgba(0, 0, 0, 0.15);\n",
              "      filter: drop-shadow(0px 1px 2px rgba(0, 0, 0, 0.3));\n",
              "      fill: #FFFFFF;\n",
              "    }\n",
              "  </style>\n",
              "\n",
              "      <script>\n",
              "        const buttonEl =\n",
              "          document.querySelector('#df-1c2d579a-60b7-48d7-bc6e-b717a94a2045 button.colab-df-convert');\n",
              "        buttonEl.style.display =\n",
              "          google.colab.kernel.accessAllowed ? 'block' : 'none';\n",
              "\n",
              "        async function convertToInteractive(key) {\n",
              "          const element = document.querySelector('#df-1c2d579a-60b7-48d7-bc6e-b717a94a2045');\n",
              "          const dataTable =\n",
              "            await google.colab.kernel.invokeFunction('convertToInteractive',\n",
              "                                                     [key], {});\n",
              "          if (!dataTable) return;\n",
              "\n",
              "          const docLinkHtml = 'Like what you see? Visit the ' +\n",
              "            '<a target=\"_blank\" href=https://colab.research.google.com/notebooks/data_table.ipynb>data table notebook</a>'\n",
              "            + ' to learn more about interactive tables.';\n",
              "          element.innerHTML = '';\n",
              "          dataTable['output_type'] = 'display_data';\n",
              "          await google.colab.output.renderOutput(dataTable, element);\n",
              "          const docLink = document.createElement('div');\n",
              "          docLink.innerHTML = docLinkHtml;\n",
              "          element.appendChild(docLink);\n",
              "        }\n",
              "      </script>\n",
              "    </div>\n",
              "  </div>\n",
              "  "
            ],
            "text/plain": [
              "   step       customer  age gender zipcodeOri       merchant zipMerchant  \\\n",
              "0     0  'C1093826151'  '4'    'M'    '28007'   'M348934600'     '28007'   \n",
              "1     0   'C352968107'  '2'    'M'    '28007'   'M348934600'     '28007'   \n",
              "2     0  'C2054744914'  '4'    'F'    '28007'  'M1823072687'     '28007'   \n",
              "3     0  'C1760612790'  '3'    'M'    '28007'   'M348934600'     '28007'   \n",
              "4     0   'C757503768'  '5'    'M'    '28007'   'M348934600'     '28007'   \n",
              "\n",
              "              category  amount  fraud  \n",
              "0  'es_transportation'    4.55      0  \n",
              "1  'es_transportation'   39.68      0  \n",
              "2  'es_transportation'   26.89      0  \n",
              "3  'es_transportation'   17.25      0  \n",
              "4  'es_transportation'   35.72      0  "
            ]
          },
          "execution_count": 64,
          "metadata": {},
          "output_type": "execute_result"
        }
      ],
      "source": [
        "df.head()"
      ]
    },
    {
      "cell_type": "markdown",
      "metadata": {
        "id": "OCliVfs9srhs"
      },
      "source": [
        "Taking an overview by looking at first five rows in dataframe using df.head()"
      ]
    },
    {
      "cell_type": "code",
      "execution_count": 65,
      "metadata": {
        "colab": {
          "base_uri": "https://localhost:8080/"
        },
        "id": "iGmfWeyETkTJ",
        "outputId": "2e2bb2d8-d2ad-4a3d-b081-d66167754f44"
      },
      "outputs": [
        {
          "name": "stdout",
          "output_type": "stream",
          "text": [
            "step [  0   1   2   3   4   5   6   7   8   9  10  11  12  13  14  15  16  17\n",
            "  18  19  20  21  22  23  24  25  26  27  28  29  30  31  32  33  34  35\n",
            "  36  37  38  39  40  41  42  43  44  45  46  47  48  49  50  51  52  53\n",
            "  54  55  56  57  58  59  60  61  62  63  64  65  66  67  68  69  70  71\n",
            "  72  73  74  75  76  77  78  79  80  81  82  83  84  85  86  87  88  89\n",
            "  90  91  92  93  94  95  96  97  98  99 100 101 102 103 104 105 106 107\n",
            " 108 109 110 111 112 113 114 115 116 117 118 119 120 121 122 123 124 125\n",
            " 126 127 128 129 130 131 132 133 134 135 136 137 138 139 140 141 142 143\n",
            " 144 145 146 147 148 149 150 151 152 153 154 155 156 157 158 159 160 161\n",
            " 162 163 164 165 166 167 168 169 170 171 172 173 174 175 176 177 178 179]\n",
            "customer [\"'C1093826151'\" \"'C352968107'\" \"'C2054744914'\" ... \"'C1014783484'\"\n",
            " \"'C849065220'\" \"'C1809646275'\"]\n",
            "age [\"'4'\" \"'2'\" \"'3'\" \"'5'\" \"'1'\" \"'6'\" \"'U'\" \"'0'\"]\n",
            "gender [\"'M'\" \"'F'\" \"'E'\" \"'U'\"]\n",
            "zipcodeOri [\"'28007'\"]\n",
            "merchant [\"'M348934600'\" \"'M1823072687'\" \"'M50039827'\" \"'M1888755466'\"\n",
            " \"'M1053599405'\" \"'M85975013'\" \"'M480139044'\" \"'M692898500'\"\n",
            " \"'M348875670'\" \"'M151143676'\" \"'M840466850'\" \"'M1741626453'\"\n",
            " \"'M1535107174'\" \"'M855959430'\" \"'M349281107'\" \"'M209847108'\"\n",
            " \"'M2122776122'\" \"'M1873032707'\" \"'M2011752106'\" \"'M857378720'\"\n",
            " \"'M1198415165'\" \"'M1748431652'\" \"'M980657600'\" \"'M1352454843'\"\n",
            " \"'M117188757'\" \"'M547558035'\" \"'M17379832'\" \"'M1649169323'\"\n",
            " \"'M1946091778'\" \"'M97925176'\" \"'M923029380'\" \"'M1353266412'\"\n",
            " \"'M1842530320'\" \"'M677738360'\" \"'M1313686961'\" \"'M732195782'\"\n",
            " \"'M1600850729'\" \"'M1872033263'\" \"'M3697346'\" \"'M495352832'\"\n",
            " \"'M1400236507'\" \"'M1294758098'\" \"'M1913465890'\" \"'M45060432'\"\n",
            " \"'M78078399'\" \"'M2080407379'\" \"'M1788569036'\" \"'M1416436880'\"\n",
            " \"'M933210764'\" \"'M1726401631'\"]\n",
            "zipMerchant [\"'28007'\"]\n",
            "category [\"'es_transportation'\" \"'es_health'\" \"'es_otherservices'\" \"'es_food'\"\n",
            " \"'es_hotelservices'\" \"'es_barsandrestaurants'\" \"'es_tech'\"\n",
            " \"'es_sportsandtoys'\" \"'es_wellnessandbeauty'\" \"'es_hyper'\" \"'es_fashion'\"\n",
            " \"'es_home'\" \"'es_contents'\" \"'es_travel'\" \"'es_leisure'\"]\n",
            "amount [  4.55  39.68  26.89 ... 249.18 224.81 190.31]\n",
            "fraud [0 1]\n"
          ]
        }
      ],
      "source": [
        "for i in df.columns:\n",
        "  print(i,df[i].unique())"
      ]
    },
    {
      "cell_type": "markdown",
      "metadata": {
        "id": "6hHhZTOPs4ek"
      },
      "source": [
        "Observing what values are there under each column\n",
        "After observing we can see we need to perform some data cleaning"
      ]
    },
    {
      "cell_type": "code",
      "execution_count": 66,
      "metadata": {
        "id": "6PKL9OH0T07a"
      },
      "outputs": [],
      "source": [
        "df[\"customer\"]=df[\"customer\"].str.split(\"C\").str[1]\n",
        "df[\"customer\"]=df[\"customer\"].str.split(\"'\").str[0].astype(int)\n"
      ]
    },
    {
      "cell_type": "markdown",
      "metadata": {
        "id": "BstITfU_tTMq"
      },
      "source": [
        "as we can see customer column has \" ' \" on both ends and starts with c we are removing all of that and converting it into integer type"
      ]
    },
    {
      "cell_type": "code",
      "execution_count": 67,
      "metadata": {
        "id": "1fyVgdL2UOS1"
      },
      "outputs": [],
      "source": [
        "df[\"merchant\"]=df[\"merchant\"].str.split(\"M\").str[1]\n",
        "df[\"merchant\"]=df[\"merchant\"].str.split(\"'\").str[0].astype(int)"
      ]
    },
    {
      "cell_type": "markdown",
      "metadata": {
        "id": "Xln5qhlPtlMH"
      },
      "source": [
        "as we can see merchant column has \" ' \" on both ends and starts with m we are removing all of that and converting it into integer type"
      ]
    },
    {
      "cell_type": "code",
      "execution_count": 68,
      "metadata": {
        "colab": {
          "base_uri": "https://localhost:8080/",
          "height": 466
        },
        "id": "UhpKOPuKuT2o",
        "outputId": "5b07b579-e72d-47f5-e531-0506ffeff9fa"
      },
      "outputs": [
        {
          "data": {
            "text/plain": [
              "<Axes: xlabel='age', ylabel='Count'>"
            ]
          },
          "execution_count": 68,
          "metadata": {},
          "output_type": "execute_result"
        },
        {
          "data": {
            "image/png": "[encoded data removed]",
            "text/plain": [
              "<Figure size 640x480 with 1 Axes>"
            ]
          },
          "metadata": {},
          "output_type": "display_data"
        }
      ],
      "source": [
        "sns.histplot(df[\"age\"])"
      ]
    },
    {
      "cell_type": "code",
      "execution_count": 69,
      "metadata": {
        "id": "dh2ldug1VFPC"
      },
      "outputs": [],
      "source": [
        "value_to_drop = \"'U'\"\n",
        "df = df[df['age'] != value_to_drop]\n",
        "df['age']=df['age'].str.split(\"'\").str[1].astype(int)"
      ]
    },
    {
      "cell_type": "markdown",
      "metadata": {
        "id": "Xet89AWut9gy"
      },
      "source": [
        "We have cleaned customer and merchant now it is time to clean age we are removing \"u\" and converting it into int"
      ]
    },
    {
      "cell_type": "code",
      "execution_count": 70,
      "metadata": {
        "colab": {
          "base_uri": "https://localhost:8080/",
          "height": 466
        },
        "id": "VgprlgiJVlL2",
        "outputId": "859fbaf8-38d2-44d2-85ea-e1b47801dfa9"
      },
      "outputs": [
        {
          "data": {
            "text/plain": [
              "<Axes: xlabel='gender', ylabel='Count'>"
            ]
          },
          "execution_count": 70,
          "metadata": {},
          "output_type": "execute_result"
        },
        {
          "data": {
            "image/png": "[encoded data removed]",
            "text/plain": [
              "<Figure size 640x480 with 1 Axes>"
            ]
          },
          "metadata": {},
          "output_type": "display_data"
        }
      ],
      "source": [
        "sns.histplot(df['gender'])"
      ]
    },
    {
      "cell_type": "code",
      "execution_count": 71,
      "metadata": {
        "id": "t5mMPgmtXBhQ"
      },
      "outputs": [],
      "source": [
        "value_to_drop = \"'U'\"\n",
        "df = df[df['gender'] != value_to_drop]\n",
        "df=df.replace(\"'M'\",1)\n",
        "df=df.replace(\"'F'\",0)"
      ]
    },
    {
      "cell_type": "markdown",
      "metadata": {
        "id": "CqEa_p64vcAM"
      },
      "source": [
        "As there are very less values as \"U\" we can drop it, and mapping m as 1 and f as 0"
      ]
    },
    {
      "cell_type": "code",
      "execution_count": 73,
      "metadata": {
        "id": "CLtB7BTmxghy"
      },
      "outputs": [],
      "source": [
        "df=df.drop(['zipcodeOri','zipMerchant'],axis=1)"
      ]
    },
    {
      "cell_type": "markdown",
      "metadata": {
        "id": "eFQUOcZ0vkmx"
      },
      "source": [
        "# as we have changed almost all the values to integer type\n",
        "we can observe that zipcodeori and zipMerchant have same values in all columns so we can drop it and it doesnt make a difference in models accuracy"
      ]
    },
    {
      "cell_type": "code",
      "execution_count": 74,
      "metadata": {
        "id": "-uCtPWuMvc4N"
      },
      "outputs": [],
      "source": [
        "from sklearn.preprocessing import LabelEncoder\n",
        "le=LabelEncoder()\n",
        "df['category']=le.fit_transform(df['category'])"
      ]
    },
    {
      "cell_type": "markdown",
      "metadata": {
        "id": "XcQ1_ucYwPvA"
      },
      "source": [
        "encoding the category as model cannot understand object type"
      ]
    },
    {
      "cell_type": "markdown",
      "metadata": {
        "id": "1RXJi5w5waYO"
      },
      "source": [
        "# **Data splitting**"
      ]
    },
    {
      "cell_type": "code",
      "execution_count": 75,
      "metadata": {
        "id": "GuDH5KJVwNmr"
      },
      "outputs": [],
      "source": [
        "X=df.drop('fraud',axis=1)\n",
        "y=df['fraud']"
      ]
    },
    {
      "cell_type": "code",
      "execution_count": 76,
      "metadata": {
        "id": "ftT3DjABwoBe"
      },
      "outputs": [],
      "source": [
        "from sklearn.model_selection import train_test_split\n",
        "X_train,X_test,y_train,y_test=train_test_split(X,y,test_size=0.3,random_state=42)"
      ]
    },
    {
      "cell_type": "markdown",
      "metadata": {
        "id": "cvD2Zz64w5-8"
      },
      "source": [
        "# **Model Traning**"
      ]
    },
    {
      "cell_type": "markdown",
      "metadata": {
        "id": "B7tO0PAyx7aD"
      },
      "source": [
        "**Random Forest Classifier**"
      ]
    },
    {
      "cell_type": "code",
      "execution_count": 77,
      "metadata": {
        "id": "kvsy0Hs0w0TS"
      },
      "outputs": [],
      "source": [
        "from sklearn.ensemble import RandomForestClassifier\n",
        "rfc=RandomForestClassifier()\n",
        "rfc.fit(X_train,y_train)\n",
        "y_pred=rfc.predict(X_test)"
      ]
    },
    {
      "cell_type": "code",
      "execution_count": 78,
      "metadata": {
        "colab": {
          "base_uri": "https://localhost:8080/"
        },
        "id": "6DLqpV2AxL2r",
        "outputId": "811763d3-0cc0-44f6-d3b4-2b457ed8e5e3"
      },
      "outputs": [
        {
          "data": {
            "text/plain": [
              "0.9960817382016471"
            ]
          },
          "execution_count": 78,
          "metadata": {},
          "output_type": "execute_result"
        }
      ],
      "source": [
        "from sklearn.metrics import accuracy_score\n",
        "accuracy_score(y_test,y_pred)"
      ]
    },
    {
      "cell_type": "markdown",
      "metadata": {
        "id": "g9HvWCxYyD6l"
      },
      "source": [
        "**Decision Tree**"
      ]
    },
    {
      "cell_type": "code",
      "execution_count": 81,
      "metadata": {
        "id": "PDaG3YxmyDhh"
      },
      "outputs": [],
      "source": [
        "from sklearn.tree import DecisionTreeClassifier\n",
        "dsc=DecisionTreeClassifier()\n",
        "dsc.fit(X_train,y_train)\n",
        "y_pred=dsc.predict(X_test)\n"
      ]
    },
    {
      "cell_type": "code",
      "execution_count": 82,
      "metadata": {
        "colab": {
          "base_uri": "https://localhost:8080/"
        },
        "id": "djAcxG53x4z_",
        "outputId": "2d392a09-9dfa-40a8-d109-1800120f9190"
      },
      "outputs": [
        {
          "data": {
            "text/plain": [
              "0.9940635804030694"
            ]
          },
          "execution_count": 82,
          "metadata": {},
          "output_type": "execute_result"
        }
      ],
      "source": [
        "accuracy_score(y_test,y_pred)"
      ]
    },
    {
      "cell_type": "markdown",
      "metadata": {
        "id": "qhDl2QyszQJq"
      },
      "source": [
        "**logistic regression**"
      ]
    },
    {
      "cell_type": "code",
      "execution_count": 83,
      "metadata": {
        "id": "CAfb3Uihywj4"
      },
      "outputs": [],
      "source": [
        "from sklearn.linear_model import LogisticRegression\n",
        "lrc=LogisticRegression()\n",
        "lrc.fit(X_train,y_train)\n",
        "y_pred=lrc.predict(X_test)"
      ]
    },
    {
      "cell_type": "code",
      "execution_count": 84,
      "metadata": {
        "colab": {
          "base_uri": "https://localhost:8080/"
        },
        "id": "sobqsYYrymgB",
        "outputId": "e2eb997a-42e7-487c-de89-6c9c198b9235"
      },
      "outputs": [
        {
          "data": {
            "text/plain": [
              "0.9877786210191978"
            ]
          },
          "execution_count": 84,
          "metadata": {},
          "output_type": "execute_result"
        }
      ],
      "source": [
        "accuracy_score(y_test,y_pred)"
      ]
    },
    {
      "cell_type": "markdown",
      "metadata": {
        "id": "7YkrxQkKzWWC"
      },
      "source": [
        "# **As Random forest has the highest accuracy we are selecting that model**"
      ]
    },
    {
      "cell_type": "code",
      "execution_count": 85,
      "metadata": {
        "id": "I4dRFdZ-zOXb"
      },
      "outputs": [],
      "source": [
        "import pickle\n",
        "pickle.dump(rfc,open(\"modelrffruad.pickle\",\"wb\"))"
      ]
    },
    {
      "cell_type": "markdown",
      "metadata": {
        "id": "QrSuOHbG0xPH"
      },
      "source": [
        "pickling model"
      ]
    },
    {
      "cell_type": "code",
      "execution_count": 86,
      "metadata": {
        "id": "74WwihHt0k-q"
      },
      "outputs": [],
      "source": [
        "pickle.dump(le,open(\"encoderfruad.pickle\",\"wb\"))"
      ]
    },
    {
      "cell_type": "markdown",
      "metadata": {
        "id": "ysweVDoH05o7"
      },
      "source": [
        "pickling label encoder"
      ]
    },
    {
      "cell_type": "code",
      "execution_count": null,
      "metadata": {
        "id": "Pl5WiAY3025L"
      },
      "outputs": [],
      "source": []
    }
  ],
  "metadata": {
    "colab": {
      "provenance": []
    },
    "kernelspec": {
      "display_name": "Python 3.8.10 64-bit",
      "language": "python",
      "name": "python3"
    },
    "language_info": {
      "name": "python",
      "version": "3.8.10"
    },
    "vscode": {
      "interpreter": {
        "hash": "e7370f93d1d0cde622a1f8e1c04877d8463912d04d973331ad4851f04de6915a"
      }
    }
  },
  "nbformat": 4,
  "nbformat_minor": 0
}
